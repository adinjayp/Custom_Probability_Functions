{
  "nbformat": 4,
  "nbformat_minor": 0,
  "metadata": {
    "colab": {
      "provenance": [],
      "collapsed_sections": []
    },
    "kernelspec": {
      "name": "python3",
      "display_name": "Python 3"
    },
    "language_info": {
      "name": "python"
    }
  },
  "cells": [
    {
      "cell_type": "markdown",
      "source": [
        "# Assignment 2"
      ],
      "metadata": {
        "id": "rfGxLK4AwR9t"
      }
    },
    {
      "cell_type": "code",
      "source": [
        "import numpy as np\n",
        "import pandas as pd\n",
        "import math\n",
        "import matplotlib.pyplot as plt\n",
        "import seaborn as sns"
      ],
      "metadata": {
        "id": "lZfzAB2f8ein"
      },
      "execution_count": 122,
      "outputs": []
    },
    {
      "cell_type": "markdown",
      "source": [
        "#Question 1\n",
        "Obtain the data for median household income in Massachusetts by school districts. Generate the following visualizations using the data (20 points)\n",
        "\n",
        "a. Construct a relative frequency histogram of the data.\n",
        "\n",
        "b. Construct a box plot of the data"
      ],
      "metadata": {
        "id": "YWAATolGvvFu"
      }
    },
    {
      "cell_type": "code",
      "execution_count": 3,
      "metadata": {
        "colab": {
          "base_uri": "https://localhost:8080/",
          "height": 423
        },
        "id": "LDL23vE23u55",
        "outputId": "ca1eebfa-8589-426f-db4d-6be7238a5838"
      },
      "outputs": [
        {
          "output_type": "execute_result",
          "data": {
            "text/plain": [
              "     Rank  MedianIncome                                      SchoolDis  \\\n",
              "0       1        201200                        Weston School District    \n",
              "1       2        176250                         Dover School District    \n",
              "2       3        169505                       Sudbury School District    \n",
              "3       4        165625                Dover-Sherborn School District    \n",
              "4       5        159615                     Wellesley School District    \n",
              "..    ...           ...                                            ...   \n",
              "304   305         34731                   Springfield School District    \n",
              "305   306         34496                      Lawrence School District    \n",
              "306   307         33763                    Fall River School District    \n",
              "307   308         32083  North Adams School District in Monroe (9-12)    \n",
              "308   309         31406                       Gosnold School District    \n",
              "\n",
              "     Population  \n",
              "0        11,704  \n",
              "1         5,727  \n",
              "2        18,197  \n",
              "3         9,927  \n",
              "4        28,858  \n",
              "..          ...  \n",
              "304    1,53,836  \n",
              "305      77,364  \n",
              "306      88,756  \n",
              "307         118  \n",
              "308          99  \n",
              "\n",
              "[309 rows x 4 columns]"
            ],
            "text/html": [
              "\n",
              "  <div id=\"df-fd2fb258-1794-423c-8e05-cd17a32bec21\">\n",
              "    <div class=\"colab-df-container\">\n",
              "      <div>\n",
              "<style scoped>\n",
              "    .dataframe tbody tr th:only-of-type {\n",
              "        vertical-align: middle;\n",
              "    }\n",
              "\n",
              "    .dataframe tbody tr th {\n",
              "        vertical-align: top;\n",
              "    }\n",
              "\n",
              "    .dataframe thead th {\n",
              "        text-align: right;\n",
              "    }\n",
              "</style>\n",
              "<table border=\"1\" class=\"dataframe\">\n",
              "  <thead>\n",
              "    <tr style=\"text-align: right;\">\n",
              "      <th></th>\n",
              "      <th>Rank</th>\n",
              "      <th>MedianIncome</th>\n",
              "      <th>SchoolDis</th>\n",
              "      <th>Population</th>\n",
              "    </tr>\n",
              "  </thead>\n",
              "  <tbody>\n",
              "    <tr>\n",
              "      <th>0</th>\n",
              "      <td>1</td>\n",
              "      <td>201200</td>\n",
              "      <td>Weston School District</td>\n",
              "      <td>11,704</td>\n",
              "    </tr>\n",
              "    <tr>\n",
              "      <th>1</th>\n",
              "      <td>2</td>\n",
              "      <td>176250</td>\n",
              "      <td>Dover School District</td>\n",
              "      <td>5,727</td>\n",
              "    </tr>\n",
              "    <tr>\n",
              "      <th>2</th>\n",
              "      <td>3</td>\n",
              "      <td>169505</td>\n",
              "      <td>Sudbury School District</td>\n",
              "      <td>18,197</td>\n",
              "    </tr>\n",
              "    <tr>\n",
              "      <th>3</th>\n",
              "      <td>4</td>\n",
              "      <td>165625</td>\n",
              "      <td>Dover-Sherborn School District</td>\n",
              "      <td>9,927</td>\n",
              "    </tr>\n",
              "    <tr>\n",
              "      <th>4</th>\n",
              "      <td>5</td>\n",
              "      <td>159615</td>\n",
              "      <td>Wellesley School District</td>\n",
              "      <td>28,858</td>\n",
              "    </tr>\n",
              "    <tr>\n",
              "      <th>...</th>\n",
              "      <td>...</td>\n",
              "      <td>...</td>\n",
              "      <td>...</td>\n",
              "      <td>...</td>\n",
              "    </tr>\n",
              "    <tr>\n",
              "      <th>304</th>\n",
              "      <td>305</td>\n",
              "      <td>34731</td>\n",
              "      <td>Springfield School District</td>\n",
              "      <td>1,53,836</td>\n",
              "    </tr>\n",
              "    <tr>\n",
              "      <th>305</th>\n",
              "      <td>306</td>\n",
              "      <td>34496</td>\n",
              "      <td>Lawrence School District</td>\n",
              "      <td>77,364</td>\n",
              "    </tr>\n",
              "    <tr>\n",
              "      <th>306</th>\n",
              "      <td>307</td>\n",
              "      <td>33763</td>\n",
              "      <td>Fall River School District</td>\n",
              "      <td>88,756</td>\n",
              "    </tr>\n",
              "    <tr>\n",
              "      <th>307</th>\n",
              "      <td>308</td>\n",
              "      <td>32083</td>\n",
              "      <td>North Adams School District in Monroe (9-12)</td>\n",
              "      <td>118</td>\n",
              "    </tr>\n",
              "    <tr>\n",
              "      <th>308</th>\n",
              "      <td>309</td>\n",
              "      <td>31406</td>\n",
              "      <td>Gosnold School District</td>\n",
              "      <td>99</td>\n",
              "    </tr>\n",
              "  </tbody>\n",
              "</table>\n",
              "<p>309 rows × 4 columns</p>\n",
              "</div>\n",
              "      <button class=\"colab-df-convert\" onclick=\"convertToInteractive('df-fd2fb258-1794-423c-8e05-cd17a32bec21')\"\n",
              "              title=\"Convert this dataframe to an interactive table.\"\n",
              "              style=\"display:none;\">\n",
              "        \n",
              "  <svg xmlns=\"http://www.w3.org/2000/svg\" height=\"24px\"viewBox=\"0 0 24 24\"\n",
              "       width=\"24px\">\n",
              "    <path d=\"M0 0h24v24H0V0z\" fill=\"none\"/>\n",
              "    <path d=\"M18.56 5.44l.94 2.06.94-2.06 2.06-.94-2.06-.94-.94-2.06-.94 2.06-2.06.94zm-11 1L8.5 8.5l.94-2.06 2.06-.94-2.06-.94L8.5 2.5l-.94 2.06-2.06.94zm10 10l.94 2.06.94-2.06 2.06-.94-2.06-.94-.94-2.06-.94 2.06-2.06.94z\"/><path d=\"M17.41 7.96l-1.37-1.37c-.4-.4-.92-.59-1.43-.59-.52 0-1.04.2-1.43.59L10.3 9.45l-7.72 7.72c-.78.78-.78 2.05 0 2.83L4 21.41c.39.39.9.59 1.41.59.51 0 1.02-.2 1.41-.59l7.78-7.78 2.81-2.81c.8-.78.8-2.07 0-2.86zM5.41 20L4 18.59l7.72-7.72 1.47 1.35L5.41 20z\"/>\n",
              "  </svg>\n",
              "      </button>\n",
              "      \n",
              "  <style>\n",
              "    .colab-df-container {\n",
              "      display:flex;\n",
              "      flex-wrap:wrap;\n",
              "      gap: 12px;\n",
              "    }\n",
              "\n",
              "    .colab-df-convert {\n",
              "      background-color: #E8F0FE;\n",
              "      border: none;\n",
              "      border-radius: 50%;\n",
              "      cursor: pointer;\n",
              "      display: none;\n",
              "      fill: #1967D2;\n",
              "      height: 32px;\n",
              "      padding: 0 0 0 0;\n",
              "      width: 32px;\n",
              "    }\n",
              "\n",
              "    .colab-df-convert:hover {\n",
              "      background-color: #E2EBFA;\n",
              "      box-shadow: 0px 1px 2px rgba(60, 64, 67, 0.3), 0px 1px 3px 1px rgba(60, 64, 67, 0.15);\n",
              "      fill: #174EA6;\n",
              "    }\n",
              "\n",
              "    [theme=dark] .colab-df-convert {\n",
              "      background-color: #3B4455;\n",
              "      fill: #D2E3FC;\n",
              "    }\n",
              "\n",
              "    [theme=dark] .colab-df-convert:hover {\n",
              "      background-color: #434B5C;\n",
              "      box-shadow: 0px 1px 3px 1px rgba(0, 0, 0, 0.15);\n",
              "      filter: drop-shadow(0px 1px 2px rgba(0, 0, 0, 0.3));\n",
              "      fill: #FFFFFF;\n",
              "    }\n",
              "  </style>\n",
              "\n",
              "      <script>\n",
              "        const buttonEl =\n",
              "          document.querySelector('#df-fd2fb258-1794-423c-8e05-cd17a32bec21 button.colab-df-convert');\n",
              "        buttonEl.style.display =\n",
              "          google.colab.kernel.accessAllowed ? 'block' : 'none';\n",
              "\n",
              "        async function convertToInteractive(key) {\n",
              "          const element = document.querySelector('#df-fd2fb258-1794-423c-8e05-cd17a32bec21');\n",
              "          const dataTable =\n",
              "            await google.colab.kernel.invokeFunction('convertToInteractive',\n",
              "                                                     [key], {});\n",
              "          if (!dataTable) return;\n",
              "\n",
              "          const docLinkHtml = 'Like what you see? Visit the ' +\n",
              "            '<a target=\"_blank\" href=https://colab.research.google.com/notebooks/data_table.ipynb>data table notebook</a>'\n",
              "            + ' to learn more about interactive tables.';\n",
              "          element.innerHTML = '';\n",
              "          dataTable['output_type'] = 'display_data';\n",
              "          await google.colab.output.renderOutput(dataTable, element);\n",
              "          const docLink = document.createElement('div');\n",
              "          docLink.innerHTML = docLinkHtml;\n",
              "          element.appendChild(docLink);\n",
              "        }\n",
              "      </script>\n",
              "    </div>\n",
              "  </div>\n",
              "  "
            ]
          },
          "metadata": {},
          "execution_count": 3
        }
      ],
      "source": [
        "df = pd.read_csv('MedianH.csv')   #df is the dataframe where CSV is stored\n",
        "df"
      ]
    },
    {
      "cell_type": "code",
      "source": [
        "#histogram Block\n",
        "draw = plt.figure()\n",
        "axiss = draw.add_subplot(111)\n",
        "axiss.hist(df['MedianIncome'],edgecolor= 'white', color='purple', weights=np.ones_like(df['MedianIncome'])+1/len(df['MedianIncome']), bins=40)\n",
        "plt.xlabel('Median Income')\n",
        "plt.ylabel('Frequency/Count')\n",
        "plt.title('Relative Frequency histogram of household income in Massachusetts by school districts')"
      ],
      "metadata": {
        "colab": {
          "base_uri": "https://localhost:8080/",
          "height": 428
        },
        "id": "AeoaaD-_5RD3",
        "outputId": "1a1844b9-b521-46c6-a704-b22268e048cf"
      },
      "execution_count": 124,
      "outputs": [
        {
          "output_type": "execute_result",
          "data": {
            "text/plain": [
              "Text(0.5, 1.0, 'Relative Frequency histogram of household income in Massachusetts by school districts')"
            ]
          },
          "metadata": {},
          "execution_count": 124
        },
        {
          "output_type": "display_data",
          "data": {
            "text/plain": [
              "<Figure size 432x432 with 1 Axes>"
            ],
            "image/png": "[encoded data removed]"
          },
          "metadata": {}
        }
      ]
    },
    {
      "cell_type": "code",
      "source": [
        "#Boxplot Block\n",
        "sns.boxplot(data= df['MedianIncome'], palette= 'dark',notch=True,width=0.7 ,showcaps=True, flierprops={\"marker\": \"x\"},medianprops={\"color\": \"coral\"})\n",
        "sns.set(rc = {'figure.figsize':(6,6)})\n",
        "plt.show()\n"
      ],
      "metadata": {
        "colab": {
          "base_uri": "https://localhost:8080/",
          "height": 377
        },
        "id": "v1lNFCVosaV8",
        "outputId": "334a3a3d-cda1-41c4-cb4f-f56696ba913a"
      },
      "execution_count": 125,
      "outputs": [
        {
          "output_type": "display_data",
          "data": {
            "text/plain": [
              "<Figure size 432x432 with 1 Axes>"
            ],
            "image/png": "[encoded data removed]"
          },
          "metadata": {}
        }
      ]
    },
    {
      "cell_type": "markdown",
      "source": [
        "#Question2\n",
        "Write custom functions to generate sample spaces (30 points)\n",
        "\n",
        "a. Create a function named cointoss(n). Where nindicates the number of times to\n",
        "toss a coin.\n",
        "i. 1<=n<=3\n",
        "\n",
        "ii. Output should be a dataframe\n",
        "\n",
        "iii. Example cointoss(3)"
      ],
      "metadata": {
        "id": "AWSZizvWxMq-"
      }
    },
    {
      "cell_type": "code",
      "source": [
        "#Function for calculation\n",
        "def flipper(flips, n):    \n",
        "  if n == 0:\n",
        "    arrcoin.append(list(flips))\n",
        "    return\n",
        "  flipper(flips + \"H\", n-1)\n",
        "  flipper(flips + \"T\", n-1)"
      ],
      "metadata": {
        "id": "ZHUPfs4Qxao9"
      },
      "execution_count": 126,
      "outputs": []
    },
    {
      "cell_type": "code",
      "source": [
        "#Function for the Sample Space\n",
        "def cointoss(n):\n",
        "  if(1<=n<=3):\n",
        "    global arrcoin\n",
        "    arrcoin = []\n",
        "    flipper(\"\",n)\n",
        "    column = []\n",
        "    for i in range(1,n+1):\n",
        "      column.append('toss'+ str(i))\n",
        "    df = pd.DataFrame(arrcoin, columns= column)\n",
        "    print(df)\n",
        "  else: print(\"Invalid Input\")"
      ],
      "metadata": {
        "id": "APZVkcLnxjlx"
      },
      "execution_count": 127,
      "outputs": []
    },
    {
      "cell_type": "code",
      "source": [
        "#Output1\n",
        "cointoss(3) "
      ],
      "metadata": {
        "colab": {
          "base_uri": "https://localhost:8080/"
        },
        "id": "OWbQlPZ_x1wg",
        "outputId": "814e4f05-5943-46ae-b48b-c59ba89564aa"
      },
      "execution_count": 128,
      "outputs": [
        {
          "output_type": "stream",
          "name": "stdout",
          "text": [
            "  toss1 toss2 toss3\n",
            "0     H     H     H\n",
            "1     H     H     T\n",
            "2     H     T     H\n",
            "3     H     T     T\n",
            "4     T     H     H\n",
            "5     T     H     T\n",
            "6     T     T     H\n",
            "7     T     T     T\n"
          ]
        }
      ]
    },
    {
      "cell_type": "code",
      "source": [
        "#Output2\n",
        "cointoss(1)"
      ],
      "metadata": {
        "colab": {
          "base_uri": "https://localhost:8080/"
        },
        "id": "yx24esV_zsJf",
        "outputId": "23159728-b2f3-4d21-9764-7bb7663275ea"
      },
      "execution_count": 130,
      "outputs": [
        {
          "output_type": "stream",
          "name": "stdout",
          "text": [
            "  toss1\n",
            "0     H\n",
            "1     T\n"
          ]
        }
      ]
    },
    {
      "cell_type": "code",
      "source": [
        "#Output3\n",
        "cointoss(4)"
      ],
      "metadata": {
        "colab": {
          "base_uri": "https://localhost:8080/"
        },
        "id": "XHQ2v-Ye-BKT",
        "outputId": "9e6b90c4-f010-4c69-bd07-80ec3ed3ba67"
      },
      "execution_count": 131,
      "outputs": [
        {
          "output_type": "stream",
          "name": "stdout",
          "text": [
            "Invalid Input\n"
          ]
        }
      ]
    },
    {
      "cell_type": "markdown",
      "source": [
        "b. Create a function named rolldie(n). Where nindicates the number of times to roll a die.\n",
        "\n",
        "i. 1<=n<=3\n",
        "\n",
        "ii. Output should be a dataframe\n",
        "\n",
        "iii. Example rolldie(1)"
      ],
      "metadata": {
        "id": "EdhmkThSyKTs"
      }
    },
    {
      "cell_type": "code",
      "source": [
        "#Function for Calculation\n",
        "def roller(roll, n):\n",
        "  if n == 0:\n",
        "    arrroll.append(list(roll))\n",
        "    return\n",
        "  roller(roll + \"1\", n-1)\n",
        "  roller(roll + \"2\", n-1)\n",
        "  roller(roll + \"3\", n-1)\n",
        "  roller(roll + \"4\", n-1)\n",
        "  roller(roll + \"5\", n-1)\n",
        "  roller(roll + \"6\", n-1)"
      ],
      "metadata": {
        "id": "McppA_HLyVft"
      },
      "execution_count": 132,
      "outputs": []
    },
    {
      "cell_type": "code",
      "source": [
        "#Function for the Sample Space\n",
        "def rolldie(n):\n",
        "  if(1<=n<=3):\n",
        "    global arrroll\n",
        "    arrroll = []\n",
        "    roller(\"\",n)\n",
        "    column = []\n",
        "    for i in range(1,n+1):\n",
        "      column.append('roll'+ str(i))\n",
        "    df = pd.DataFrame (arrroll, columns= column)\n",
        "    print(df)\n",
        "  else: print(\"Invalid Input\")"
      ],
      "metadata": {
        "id": "qRMXh0bxyhFj"
      },
      "execution_count": 133,
      "outputs": []
    },
    {
      "cell_type": "code",
      "source": [
        "#Output1\n",
        "rolldie(3)"
      ],
      "metadata": {
        "colab": {
          "base_uri": "https://localhost:8080/"
        },
        "id": "pHlUx3knysyr",
        "outputId": "14a56219-7743-4e87-dc9d-0231f8183a0c"
      },
      "execution_count": 134,
      "outputs": [
        {
          "output_type": "stream",
          "name": "stdout",
          "text": [
            "    roll1 roll2 roll3\n",
            "0       1     1     1\n",
            "1       1     1     2\n",
            "2       1     1     3\n",
            "3       1     1     4\n",
            "4       1     1     5\n",
            "..    ...   ...   ...\n",
            "211     6     6     2\n",
            "212     6     6     3\n",
            "213     6     6     4\n",
            "214     6     6     5\n",
            "215     6     6     6\n",
            "\n",
            "[216 rows x 3 columns]\n"
          ]
        }
      ]
    },
    {
      "cell_type": "code",
      "source": [
        "#Output2\n",
        "rolldie(1)"
      ],
      "metadata": {
        "colab": {
          "base_uri": "https://localhost:8080/"
        },
        "id": "lQIm9DSNzw-Z",
        "outputId": "8d3659ab-c2af-4987-82b6-63f88897254b"
      },
      "execution_count": 135,
      "outputs": [
        {
          "output_type": "stream",
          "name": "stdout",
          "text": [
            "  roll1\n",
            "0     1\n",
            "1     2\n",
            "2     3\n",
            "3     4\n",
            "4     5\n",
            "5     6\n"
          ]
        }
      ]
    },
    {
      "cell_type": "code",
      "source": [
        "#Output3\n",
        "rolldie(4)"
      ],
      "metadata": {
        "colab": {
          "base_uri": "https://localhost:8080/"
        },
        "id": "hH-wqn7Yzz89",
        "outputId": "101c1dd3-17ac-4736-e6b3-d1e06aaf9b25"
      },
      "execution_count": 136,
      "outputs": [
        {
          "output_type": "stream",
          "name": "stdout",
          "text": [
            "Invalid Input\n"
          ]
        }
      ]
    },
    {
      "cell_type": "markdown",
      "source": [
        "#Question 3\n",
        "Create a probspace(experiment, n) function where the experiment can be a cointoss or a rolldie. If the option selected is cointoss, then generate a sample space and the probability for the coin toss. If the option selected is rolldie then then generate a sample space and the probability for the same. (20 points)\n",
        "\n",
        "a.1<=n<=3\n",
        "\n",
        "b. Output should be a dataframe\n",
        "\n",
        "c. Example: probspace(rolldie, 1)"
      ],
      "metadata": {
        "id": "w67kc5hSy7kS"
      }
    },
    {
      "cell_type": "code",
      "source": [
        "#Function to calculate Flips Sample Space\n",
        "def flipper(flips, n):\n",
        "  if n == 0:\n",
        "    arrprobcoin.append(list(flips))\n",
        "    return \n",
        "  flipper(flips + \"H\", n-1)\n",
        "  flipper(flips + \"T\", n-1)"
      ],
      "metadata": {
        "id": "FOHuR59jzHGc"
      },
      "execution_count": 137,
      "outputs": []
    },
    {
      "cell_type": "code",
      "source": [
        "#Function to calculate Roll Sample Space\n",
        "def roller(roll, n):\n",
        "  if n == 0:\n",
        "    arrprobroll.append(list(roll))\n",
        "    return\n",
        "  roller(roll + \"1\", n-1)\n",
        "  roller(roll + \"2\", n-1)\n",
        "  roller(roll + \"3\", n-1)\n",
        "  roller(roll + \"4\", n-1)\n",
        "  roller(roll + \"5\", n-1)\n",
        "  roller(roll + \"6\", n-1)"
      ],
      "metadata": {
        "id": "Yqt_B7uszPd6"
      },
      "execution_count": 138,
      "outputs": []
    },
    {
      "cell_type": "code",
      "source": [
        "#Function to Calculate Sample Space Along with Probability\n",
        "def probspace(Experiment,n):\n",
        "  if 1<=n<=3 and Experiment== 'cointoss':\n",
        "    global arrprobcoin\n",
        "    arrprobcoin = []\n",
        "    flipper(\"\",n)\n",
        "    column1 = []\n",
        "    for i in range(1,n+1):\n",
        "      column1.append('toss'+ str(i))\n",
        "    dfcoin = pd.DataFrame(arrprobcoin, columns= column1)\n",
        "    dfcoin['Probability'] = pd.Series([(1/len(dfcoin.index)) for x in range(len(dfcoin.index))])\n",
        "    print(dfcoin)\n",
        "  elif 1<=n<=3 and Experiment== 'rolldie':\n",
        "    global arrprobroll\n",
        "    arrprobroll = []\n",
        "    roller(\"\",n)\n",
        "    column2 = []\n",
        "    for i in range(1,n+1):\n",
        "      column2.append('roll'+ str(i))\n",
        "    dfroll = pd.DataFrame(arrprobroll, columns= column2)\n",
        "    dfroll['Probability'] = pd.Series([1/len(dfroll.index) for x in range(len(dfroll.index))])\n",
        "    print(dfroll)\n",
        "  else: print(\"Invalid Input\")"
      ],
      "metadata": {
        "id": "l8UiD8yPzUCA"
      },
      "execution_count": 139,
      "outputs": []
    },
    {
      "cell_type": "code",
      "source": [
        "#output1\n",
        "probspace('cointoss',2)"
      ],
      "metadata": {
        "colab": {
          "base_uri": "https://localhost:8080/"
        },
        "id": "mWbdvLd4zX7J",
        "outputId": "cfa8c12a-c1b1-4ef4-8766-3aa7c24d451e"
      },
      "execution_count": 140,
      "outputs": [
        {
          "output_type": "stream",
          "name": "stdout",
          "text": [
            "  toss1 toss2  Probability\n",
            "0     H     H         0.25\n",
            "1     H     T         0.25\n",
            "2     T     H         0.25\n",
            "3     T     T         0.25\n"
          ]
        }
      ]
    },
    {
      "cell_type": "code",
      "source": [
        "#output2\n",
        "probspace('cointoss',3)"
      ],
      "metadata": {
        "colab": {
          "base_uri": "https://localhost:8080/"
        },
        "id": "8nJQrPM4_Gyg",
        "outputId": "3bdddfee-a9a3-4292-99d6-b6d4099b7d96"
      },
      "execution_count": 142,
      "outputs": [
        {
          "output_type": "stream",
          "name": "stdout",
          "text": [
            "  toss1 toss2 toss3  Probability\n",
            "0     H     H     H        0.125\n",
            "1     H     H     T        0.125\n",
            "2     H     T     H        0.125\n",
            "3     H     T     T        0.125\n",
            "4     T     H     H        0.125\n",
            "5     T     H     T        0.125\n",
            "6     T     T     H        0.125\n",
            "7     T     T     T        0.125\n"
          ]
        }
      ]
    },
    {
      "cell_type": "code",
      "source": [
        "#output3\n",
        "probspace('rolldie',3)"
      ],
      "metadata": {
        "colab": {
          "base_uri": "https://localhost:8080/"
        },
        "id": "ivrKjAK_z9z5",
        "outputId": "386ac504-1477-45f1-fafc-83fa24f6f070"
      },
      "execution_count": 143,
      "outputs": [
        {
          "output_type": "stream",
          "name": "stdout",
          "text": [
            "    roll1 roll2 roll3  Probability\n",
            "0       1     1     1      0.00463\n",
            "1       1     1     2      0.00463\n",
            "2       1     1     3      0.00463\n",
            "3       1     1     4      0.00463\n",
            "4       1     1     5      0.00463\n",
            "..    ...   ...   ...          ...\n",
            "211     6     6     2      0.00463\n",
            "212     6     6     3      0.00463\n",
            "213     6     6     4      0.00463\n",
            "214     6     6     5      0.00463\n",
            "215     6     6     6      0.00463\n",
            "\n",
            "[216 rows x 4 columns]\n"
          ]
        }
      ]
    },
    {
      "cell_type": "code",
      "source": [
        "#output4\n",
        "probspace('rolldie',2)"
      ],
      "metadata": {
        "colab": {
          "base_uri": "https://localhost:8080/"
        },
        "id": "Elq1TtVM_UP0",
        "outputId": "8949212e-2d71-4a48-bf41-edfaa83f6a7d"
      },
      "execution_count": 144,
      "outputs": [
        {
          "output_type": "stream",
          "name": "stdout",
          "text": [
            "   roll1 roll2  Probability\n",
            "0      1     1     0.027778\n",
            "1      1     2     0.027778\n",
            "2      1     3     0.027778\n",
            "3      1     4     0.027778\n",
            "4      1     5     0.027778\n",
            "5      1     6     0.027778\n",
            "6      2     1     0.027778\n",
            "7      2     2     0.027778\n",
            "8      2     3     0.027778\n",
            "9      2     4     0.027778\n",
            "10     2     5     0.027778\n",
            "11     2     6     0.027778\n",
            "12     3     1     0.027778\n",
            "13     3     2     0.027778\n",
            "14     3     3     0.027778\n",
            "15     3     4     0.027778\n",
            "16     3     5     0.027778\n",
            "17     3     6     0.027778\n",
            "18     4     1     0.027778\n",
            "19     4     2     0.027778\n",
            "20     4     3     0.027778\n",
            "21     4     4     0.027778\n",
            "22     4     5     0.027778\n",
            "23     4     6     0.027778\n",
            "24     5     1     0.027778\n",
            "25     5     2     0.027778\n",
            "26     5     3     0.027778\n",
            "27     5     4     0.027778\n",
            "28     5     5     0.027778\n",
            "29     5     6     0.027778\n",
            "30     6     1     0.027778\n",
            "31     6     2     0.027778\n",
            "32     6     3     0.027778\n",
            "33     6     4     0.027778\n",
            "34     6     5     0.027778\n",
            "35     6     6     0.027778\n"
          ]
        }
      ]
    },
    {
      "cell_type": "markdown",
      "source": [
        "#Question 4\n",
        "Write custom functions to generate sample space and counting (20 points)\n",
        "\n",
        "a. Create a function called as sample(n, r, ordered, replacement)\n",
        "\n",
        "i. n is the number of objects in the box\n",
        "\n",
        "ii. r is the number of objects selected\n",
        "\n",
        "iii. Ordered is a boolean value (true or false)\n",
        "\n",
        "iv. Replacement is true or false (true or false)\n",
        "\n",
        "v. Once the input is provided by the users generate a sample space of\n",
        "selecting r objects from n objects"
      ],
      "metadata": {
        "id": "SBLvO9RP0G8j"
      }
    },
    {
      "cell_type": "code",
      "source": [
        "#Function for calculation\n",
        "def space(roll,n, r, ordered, replacement):\n",
        "  if r == 0:\n",
        "    arr.append(roll.split(',')[1:])\n",
        "    return\n",
        "  for x in range(1,n+1):\n",
        "    if replacement == False:  #ordered = True replacement = False  \n",
        "      if ordered == True:    \n",
        "        if (str(x) not in roll):\n",
        "          space(roll +','+ str(x),n, r-1, ordered,replacement)\n",
        "      else:                   #ordered = False,replacement = False\n",
        "        if (str(x) not in roll):\n",
        "          if(roll !=''):\n",
        "            if(x>=int((roll.split(',')[-1]))):\n",
        "              space(roll +','+ str(x),n, r-1, ordered,replacement)\n",
        "          else:\n",
        "            space(roll +','+ str(x),n, r-1, ordered,replacement)\n",
        "    else:                   #ordered == True replacement = True \n",
        "      if ordered == True:   \n",
        "        space(roll +','+ str(x),n, r-1, ordered,replacement) \n",
        "      else:                 #ordered = False,replacement = True\n",
        "        if(roll !=''):\n",
        "          if(x>=int((roll.split(',')[-1]))):\n",
        "            space(roll +','+ str(x),n, r-1, ordered,replacement)\n",
        "        else:\n",
        "          space(roll +','+ str(x),n, r-1, ordered,replacement)"
      ],
      "metadata": {
        "id": "RVVncCKf0RGg"
      },
      "execution_count": 145,
      "outputs": []
    },
    {
      "cell_type": "code",
      "source": [
        "#Function for Sample Space\n",
        "def sample(n, r, ordered, replacement):\n",
        "    global arr\n",
        "    arr = []\n",
        "    space(\"\",n, r, ordered, replacement)\n",
        "    column = []\n",
        "    for i in range(1,r+1):\n",
        "      column.append('X'+ str(i))\n",
        "    df = pd.DataFrame (arr, columns= column)\n",
        "    print(df)"
      ],
      "metadata": {
        "id": "T2veols_0lKa"
      },
      "execution_count": 146,
      "outputs": []
    },
    {
      "cell_type": "code",
      "source": [
        "#output1\n",
        "sample(3,2,ordered= True,replacement=True)"
      ],
      "metadata": {
        "colab": {
          "base_uri": "https://localhost:8080/"
        },
        "id": "E5wf1nTG1T-2",
        "outputId": "a6b0a84a-2da7-4397-d5a9-c7960a5e6b4d"
      },
      "execution_count": 148,
      "outputs": [
        {
          "output_type": "stream",
          "name": "stdout",
          "text": [
            "  X1 X2\n",
            "0  1  1\n",
            "1  1  2\n",
            "2  1  3\n",
            "3  2  1\n",
            "4  2  2\n",
            "5  2  3\n",
            "6  3  1\n",
            "7  3  2\n",
            "8  3  3\n"
          ]
        }
      ]
    },
    {
      "cell_type": "code",
      "source": [
        "#output2\n",
        "sample(3, 2, ordered=True, replacement=False)"
      ],
      "metadata": {
        "colab": {
          "base_uri": "https://localhost:8080/"
        },
        "id": "JlMbEib33JX2",
        "outputId": "af1f5667-e77b-4f11-de24-25dd1380841f"
      },
      "execution_count": 149,
      "outputs": [
        {
          "output_type": "stream",
          "name": "stdout",
          "text": [
            "  X1 X2\n",
            "0  1  2\n",
            "1  1  3\n",
            "2  2  1\n",
            "3  2  3\n",
            "4  3  1\n",
            "5  3  2\n"
          ]
        }
      ]
    },
    {
      "cell_type": "code",
      "source": [
        "#output3\n",
        "sample(3, 2, ordered=False, replacement=True)"
      ],
      "metadata": {
        "colab": {
          "base_uri": "https://localhost:8080/"
        },
        "id": "Sy0-HFMT3Oud",
        "outputId": "c0a47ebe-6805-4b85-a63c-9d3974721002"
      },
      "execution_count": 150,
      "outputs": [
        {
          "output_type": "stream",
          "name": "stdout",
          "text": [
            "  X1 X2\n",
            "0  1  1\n",
            "1  1  2\n",
            "2  1  3\n",
            "3  2  2\n",
            "4  2  3\n",
            "5  3  3\n"
          ]
        }
      ]
    },
    {
      "cell_type": "code",
      "source": [
        "#output4\n",
        "sample(3, 2, ordered=False, replacement=False)"
      ],
      "metadata": {
        "colab": {
          "base_uri": "https://localhost:8080/"
        },
        "id": "zMdomHkZ3WSa",
        "outputId": "466d1dd6-e62d-485e-aa07-5538d63f7415"
      },
      "execution_count": 115,
      "outputs": [
        {
          "output_type": "stream",
          "name": "stdout",
          "text": [
            "  X1 X2\n",
            "0  1  2\n",
            "1  1  3\n",
            "2  2  3\n"
          ]
        }
      ]
    },
    {
      "cell_type": "code",
      "source": [
        "#output5\n",
        "sample(10, 4, ordered=True, replacement=False)"
      ],
      "metadata": {
        "colab": {
          "base_uri": "https://localhost:8080/"
        },
        "id": "LlE7V0XyAYN3",
        "outputId": "12a45e30-df6e-4438-9c0b-d1ec732a3b4d"
      },
      "execution_count": 154,
      "outputs": [
        {
          "output_type": "stream",
          "name": "stdout",
          "text": [
            "      X1 X2 X3 X4\n",
            "0      1  2  3  4\n",
            "1      1  2  3  5\n",
            "2      1  2  3  6\n",
            "3      1  2  3  7\n",
            "4      1  2  3  8\n",
            "...   .. .. .. ..\n",
            "4699  10  9  8  3\n",
            "4700  10  9  8  4\n",
            "4701  10  9  8  5\n",
            "4702  10  9  8  6\n",
            "4703  10  9  8  7\n",
            "\n",
            "[4704 rows x 4 columns]\n"
          ]
        }
      ]
    },
    {
      "cell_type": "code",
      "source": [
        "#Output6\n",
        "sample(10, 4, ordered=False, replacement=False)"
      ],
      "metadata": {
        "colab": {
          "base_uri": "https://localhost:8080/"
        },
        "id": "VZSe5yGMAqJ2",
        "outputId": "24ba161e-0f5c-4143-a26f-1e13833688af"
      },
      "execution_count": 155,
      "outputs": [
        {
          "output_type": "stream",
          "name": "stdout",
          "text": [
            "    X1 X2 X3  X4\n",
            "0    1  2  3   4\n",
            "1    1  2  3   5\n",
            "2    1  2  3   6\n",
            "3    1  2  3   7\n",
            "4    1  2  3   8\n",
            "..  .. .. ..  ..\n",
            "205  6  7  8   9\n",
            "206  6  7  8  10\n",
            "207  6  7  9  10\n",
            "208  6  8  9  10\n",
            "209  7  8  9  10\n",
            "\n",
            "[210 rows x 4 columns]\n"
          ]
        }
      ]
    },
    {
      "cell_type": "markdown",
      "source": [
        "#Question 5\n",
        "Write custom function to count number of samples (10 points)\n",
        "\n",
        "a. Create a function called nsample(n, r, ordered, replacement)\n",
        "\n",
        "b. n is the number of objects in the box\n",
        "\n",
        "c. r is the number of objects selected\n",
        "\n",
        "d. Ordered is a boolean value (true or false)\n",
        "\n",
        "e. Replacement is true or false (true or false)\n",
        "\n",
        "f. Once the input is provided by the users generate a value indicating number of\n",
        "ways r objects can be selected from n objects"
      ],
      "metadata": {
        "id": "nhYqXO7a3e7M"
      }
    },
    {
      "cell_type": "code",
      "source": [
        "#Function for Counting Sample Spaces\n",
        "def nsample(n, r, ordered, replacement):\n",
        "  if ordered == True and replacement == True:\n",
        "    return print('Answer: '+str(n**r))\n",
        "  elif ordered == True and replacement == False:\n",
        "    return print('Answer: '+str(math.factorial(n)/math.factorial(n-r)))\n",
        "  elif ordered == False and replacement == True:\n",
        "    return print('Answer: '+str(math.factorial(n-1+r)/(math.factorial(r)*math.factorial(n-1))))\n",
        "  elif ordered == False and replacement == False:\n",
        "    return print('Answer: '+str(math.factorial(n)/(math.factorial(r)*math.factorial(n-r))))\n",
        "  else:\n",
        "    return 'Invalid Input'"
      ],
      "metadata": {
        "id": "hEH3kkrJ5T0M"
      },
      "execution_count": 156,
      "outputs": []
    },
    {
      "cell_type": "code",
      "source": [
        "#Output1\n",
        "nsample(3, 2, ordered=True, replacement=True)"
      ],
      "metadata": {
        "colab": {
          "base_uri": "https://localhost:8080/"
        },
        "id": "x7INKUra5W-p",
        "outputId": "4c828be0-6293-4595-c5a5-3513ea2b679f"
      },
      "execution_count": 157,
      "outputs": [
        {
          "output_type": "stream",
          "name": "stdout",
          "text": [
            "Answer: 9\n"
          ]
        }
      ]
    },
    {
      "cell_type": "code",
      "source": [
        "#Output2\n",
        "nsample(3, 2, ordered=True, replacement=False)"
      ],
      "metadata": {
        "colab": {
          "base_uri": "https://localhost:8080/"
        },
        "id": "s7yrXRF85enr",
        "outputId": "d9e7e4e7-ae9a-428a-82d1-5999de1e1d22"
      },
      "execution_count": 158,
      "outputs": [
        {
          "output_type": "stream",
          "name": "stdout",
          "text": [
            "Answer: 6.0\n"
          ]
        }
      ]
    },
    {
      "cell_type": "code",
      "source": [
        "#output3\n",
        "nsample(3, 2, ordered=False, replacement=True)"
      ],
      "metadata": {
        "colab": {
          "base_uri": "https://localhost:8080/"
        },
        "id": "SNC750WX5iG4",
        "outputId": "9f5332b7-67c7-4323-9ae1-23bf5301eca4"
      },
      "execution_count": 159,
      "outputs": [
        {
          "output_type": "stream",
          "name": "stdout",
          "text": [
            "Answer: 6.0\n"
          ]
        }
      ]
    },
    {
      "cell_type": "code",
      "source": [
        "#output4\n",
        "nsample(3, 2, ordered=False, replacement=False)"
      ],
      "metadata": {
        "colab": {
          "base_uri": "https://localhost:8080/"
        },
        "id": "f7ddcms35lP6",
        "outputId": "e1a4ba4f-e84d-4cbf-9397-bbbd72b933b6"
      },
      "execution_count": 160,
      "outputs": [
        {
          "output_type": "stream",
          "name": "stdout",
          "text": [
            "Answer: 3.0\n"
          ]
        }
      ]
    }
  ]
}